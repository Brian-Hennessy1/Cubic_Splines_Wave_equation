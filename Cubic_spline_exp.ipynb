{
 "cells": [
  {
   "cell_type": "code",
   "execution_count": 1,
   "metadata": {},
   "outputs": [],
   "source": [
    "import numpy as np\n",
    "import matplotlib.pyplot as plt\n",
    "from scipy.integrate import quad "
   ]
  },
  {
   "cell_type": "code",
   "execution_count": 2,
   "metadata": {},
   "outputs": [],
   "source": [
    "#Define final time, time step and epsilon\n",
    "T = 1\n",
    "dt = 0.00005\n",
    "epsilon = 0.0025\n",
    "Nt = int(np.ceil(T/dt))"
   ]
  },
  {
   "cell_type": "code",
   "execution_count": 3,
   "metadata": {},
   "outputs": [],
   "source": [
    "#Define plus function to generate splines.\n",
    "def plus(x,n):\n",
    "    return x**n*(x>=0)"
   ]
  },
  {
   "cell_type": "code",
   "execution_count": 4,
   "metadata": {},
   "outputs": [],
   "source": [
    "#Define cubic spline through the plus functions, ensure the compact support is enforced aswell, particularly important for t>(i+2)*dt \n",
    "def cubic_spline(t,dt,i):\n",
    "    ans = (plus((t-(i-2)*dt),3)-4*plus((t-(i-1)*dt),3)+6*plus((t-(i)*dt),3)-4*plus((t-(i+1)*dt),3)+plus((t-(i+2)*dt),3))*(t<=(i+2)*dt)*(t>=(i-2)*dt)\n",
    "    return 1/(4*dt**3)*ans\n",
    "\n",
    "#Same for second derivative\n",
    "def second_deriv_cubic_spline(t,dt,i):\n",
    "    ans = (6*plus(t-(i-2)*dt,1)-24*plus(t-(i-1)*dt,1)+36*plus(t-i*dt,1)-24*plus(t-(i+1)*dt,1)+6*plus(t-(i+2)*dt,1))*(t<=(i+2)*dt)*(t>=(i-2)*dt)\n",
    "    return 1/(4*dt**3)*ans"
   ]
  },
  {
   "cell_type": "code",
   "execution_count": 5,
   "metadata": {},
   "outputs": [],
   "source": [
    "#Generate mass matrix\n",
    "#Numbers are so small that relative error is more important than absolute error. Therefore the absolute error tolerance is set very small so that in practice the relative error is the criteria used\n",
    "#Main diagonal\n",
    "#Functions overlap is on [(j-2)dt,(j+2)dt]\n",
    "M_i_i = np.zeros(Nt-1)\n",
    "for j in range(2,Nt-1):\n",
    "    M_i_i[j-2] = quad(lambda x: np.exp(-x/epsilon)*cubic_spline(x,dt,j)*cubic_spline(x,dt,j),(j-2)*dt,(j+2)*dt,points=[(j-1)*dt,j*dt,(j+1)*dt],epsabs=1e-50,epsrel=1e-10)[0]\n",
    "\n",
    "M_i_i[-2] = quad(lambda x: np.exp(-x/epsilon)*cubic_spline(x,dt,Nt-1)*cubic_spline(x,dt,Nt-1),T-3*dt,T,points=[T-2*dt,T-dt],epsabs=1e-50,epsrel=1e-10)[0]\n",
    "M_i_i[-1] = quad(lambda x: np.exp(-x/epsilon)*cubic_spline(x,dt,Nt)*cubic_spline(x,dt,Nt),T-2*dt,T,points=[T-dt],epsabs=1e-50,epsrel=1e-10)[0]\n",
    "\n",
    "\n",
    "\n",
    "#First off diagonal\n",
    "#Functions overlap is on [(j-1)dt,(j+2)dt]\n",
    "M_i_i_plus_1 = np.zeros(Nt-2)\n",
    "for j in range(2,Nt-2):\n",
    "    M_i_i_plus_1[j-1] = quad(lambda x: np.exp(-x/epsilon)*cubic_spline(x,dt,j)*cubic_spline(x,dt,j+1),(j-1)*dt,(j+2)*dt,points=[j*dt,(j+1)*dt],epsabs=1e-50,epsrel=1e-10)[0]\n",
    "\n",
    "#Only the overlap of the last entry partially lies outside of [0,T]\n",
    "M_i_i_plus_1[-1] = quad(lambda x: np.exp(-x/epsilon)*cubic_spline(x,dt,Nt-1)*cubic_spline(x,dt,Nt),T-2*dt,T,points=[T-dt],epsabs=1e-50,epsrel=1e-10)[0]\n",
    "\n",
    "\n",
    "\n",
    "#Second off diagonal\n",
    "#Functions overlap is on [jdt,(j+2)dt]\n",
    "M_i_i_plus_2 = np.zeros(Nt-3)\n",
    "for j in range(2,Nt-1):\n",
    "    M_i_i_plus_2[j-2] = quad(lambda x: np.exp(-x/epsilon)*cubic_spline(x,dt,j)*cubic_spline(x,dt,j+2),(j)*dt,(j+2)*dt,points=[(j+1)*dt],epsabs=1e-50,epsrel=1e-10)[0]\n",
    "\n",
    "#Dont need to split out the last 2 cases as the overlap lies entirely within [0,T]\n",
    "\n",
    "\n",
    "#Third off diagonal\n",
    "#Functions overlap is on [(j+1)dt,(j+2)dt]\n",
    "M_i_i_plus_3 = np.zeros(Nt-4)\n",
    "for j in range(2,Nt-2):\n",
    "    M_i_i_plus_3[j-2] = quad(lambda x: np.exp(-x/epsilon)*cubic_spline(x,dt,j)*cubic_spline(x,dt,j+3),(j+1)*dt,(j+2)*dt,epsabs=1e-50,epsrel=1e-10)[0]\n",
    "\n"
   ]
  },
  {
   "cell_type": "code",
   "execution_count": 6,
   "metadata": {},
   "outputs": [],
   "source": [
    "#Generate symmetric mass matrix\n",
    "M = np.diagflat(M_i_i,0)+np.diagflat(M_i_i_plus_1,1)+np.diagflat(M_i_i_plus_2,2)+np.diagflat(M_i_i_plus_3,3) \\\n",
    "+np.diagflat(M_i_i_plus_1,-1)+np.diagflat(M_i_i_plus_2,-2)+np.diagflat(M_i_i_plus_3,-3)"
   ]
  },
  {
   "cell_type": "code",
   "execution_count": 7,
   "metadata": {},
   "outputs": [
    {
     "name": "stderr",
     "output_type": "stream",
     "text": [
      "C:\\Users\\Brian Hennessy\\AppData\\Local\\Temp\\ipykernel_19212\\3556568303.py:22: IntegrationWarning: The occurrence of roundoff error is detected, which prevents \n",
      "  the requested tolerance from being achieved.  The error may be \n",
      "  underestimated.\n",
      "  A_i_i_plus_2[j-2] = quad(lambda x: np.exp(-x/epsilon)*second_deriv_cubic_spline(x,dt,j)*second_deriv_cubic_spline(x,dt,j+2),(j)*dt,(j+2)*dt,points=[(j+1)*dt],epsabs=1e-50,epsrel=1e-10)[0]\n"
     ]
    }
   ],
   "source": [
    "#Generate Stiffness matrix\n",
    "#Numbers are so small that relative error is more important than absolute error. Therefore the absolute error tolerance is set very small so that in practice the relative error is the criteria used\n",
    "#Main diagonal\n",
    "A_i_i = np.zeros(Nt-1)\n",
    "for j in range(2,Nt-1):\n",
    "    A_i_i[j-2] = quad(lambda x: np.exp(-x/epsilon)*second_deriv_cubic_spline(x,dt,j)*second_deriv_cubic_spline(x,dt,j),(j-2)*dt,(j+2)*dt,points=[(j-1)*dt,j*dt,(j+1)*dt],epsabs=1e-50,epsrel=1e-10)[0]\n",
    "\n",
    "A_i_i[-2] = quad(lambda x: np.exp(-x/epsilon)*second_deriv_cubic_spline(x,dt,Nt-1)*second_deriv_cubic_spline(x,dt,Nt-1),T-3*dt,T,points=[T-2*dt,T-dt],epsabs=1e-50,epsrel=1e-10)[0]\n",
    "A_i_i[-1] = quad(lambda x: np.exp(-x/epsilon)*second_deriv_cubic_spline(x,dt,Nt)*second_deriv_cubic_spline(x,dt,Nt),T-2*dt,T,points=[T-dt],epsabs=1e-50,epsrel=1e-10)[0]\n",
    "\n",
    "#First off diagonal\n",
    "A_i_i_plus_1 = np.zeros(Nt-2)\n",
    "for j in range(2,Nt-1):\n",
    "    A_i_i_plus_1[j-2] = quad(lambda x: np.exp(-x/epsilon)*second_deriv_cubic_spline(x,dt,j)*second_deriv_cubic_spline(x,dt,j+1),(j-1)*dt,(j+2)*dt,points=[j*dt,(j+1)*dt],epsabs=1e-50,epsrel=1e-10)[0]\n",
    "\n",
    "#Only the overlap of the last entry partially lies outside of [0,T]\n",
    "A_i_i_plus_1[-1] = quad(lambda x: np.exp(-x/epsilon)*second_deriv_cubic_spline(x,dt,Nt-1)*second_deriv_cubic_spline(x,dt,Nt),T-2*dt,T,points=[T-2*dt,T-dt],epsabs=1e-50,epsrel=1e-10)[0]\n",
    "\n",
    "#Second off diagonal\n",
    "A_i_i_plus_2 = np.zeros(Nt-3)\n",
    "for j in range(2,Nt-1):\n",
    "    A_i_i_plus_2[j-2] = quad(lambda x: np.exp(-x/epsilon)*second_deriv_cubic_spline(x,dt,j)*second_deriv_cubic_spline(x,dt,j+2),(j)*dt,(j+2)*dt,points=[(j+1)*dt],epsabs=1e-50,epsrel=1e-10)[0]\n",
    "\n",
    "#Dont need to split out the last 2 cases as the overlap lies entirely within [0,T]\n",
    "\n",
    "#Third off diagonal\n",
    "A_i_i_plus_3 = np.zeros(Nt-4)\n",
    "for j in range(2,Nt-2):\n",
    "    A_i_i_plus_3[j-2] = quad(lambda x: np.exp(-x/epsilon)*second_deriv_cubic_spline(x,dt,j)*second_deriv_cubic_spline(x,dt,j+3),(j+1)*dt,(j+2)*dt,epsabs=1e-50,epsrel=1e-10)[0]\n"
   ]
  },
  {
   "cell_type": "code",
   "execution_count": 8,
   "metadata": {},
   "outputs": [],
   "source": [
    "#Generate symmetric stiffness matrix\n",
    "A = np.diagflat(A_i_i,0)+np.diagflat(A_i_i_plus_1,1)+np.diagflat(A_i_i_plus_2,2)+np.diagflat(A_i_i_plus_3,3) \\\n",
    "+np.diagflat(A_i_i_plus_1,-1)+np.diagflat(A_i_i_plus_2,-2)+np.diagflat(A_i_i_plus_3,-3)"
   ]
  },
  {
   "cell_type": "code",
   "execution_count": 9,
   "metadata": {},
   "outputs": [],
   "source": [
    "#Define lambda and create interior matrix\n",
    "lambd = 16*np.pi**2\n",
    "Mat_int = A + lambd/epsilon**2*M"
   ]
  },
  {
   "cell_type": "code",
   "execution_count": 10,
   "metadata": {},
   "outputs": [],
   "source": [
    "#Initial conditions matrix\n",
    "Mat_ic = np.zeros([2,2])\n",
    "Mat_ic[0,0] = 1\n",
    "Mat_ic[0,1] = 1/4\n",
    "Mat_ic[1,1] = 3/(4*dt)"
   ]
  },
  {
   "cell_type": "code",
   "execution_count": 11,
   "metadata": {},
   "outputs": [
    {
     "name": "stderr",
     "output_type": "stream",
     "text": [
      "C:\\Users\\Brian Hennessy\\AppData\\Local\\Temp\\ipykernel_19212\\1131962361.py:10: IntegrationWarning: The occurrence of roundoff error is detected, which prevents \n",
      "  the requested tolerance from being achieved.  The error may be \n",
      "  underestimated.\n",
      "  quad(lambda x: np.exp(-x/epsilon)*second_deriv_cubic_spline(x,dt,0)*second_deriv_cubic_spline(x,dt,2),0,2*dt,points=[dt],epsabs=1e-50,epsrel=1e-10)[0]\n",
      "C:\\Users\\Brian Hennessy\\AppData\\Local\\Temp\\ipykernel_19212\\1131962361.py:19: IntegrationWarning: The occurrence of roundoff error is detected, which prevents \n",
      "  the requested tolerance from being achieved.  The error may be \n",
      "  underestimated.\n",
      "  quad(lambda x: np.exp(-x/epsilon)*second_deriv_cubic_spline(x,dt,1)*second_deriv_cubic_spline(x,dt,3),dt,3*dt,points=[2*dt],epsabs=1e-50,epsrel=1e-10)[0]\n"
     ]
    }
   ],
   "source": [
    "#Initial conditons interaction with interior matrix\n",
    "#Basis function 0 with basis function 2,\n",
    "#Basis function 1 with basis function 2,\n",
    "#Basis function 0 with basis function 3,\n",
    "#Basis function 1 with basis function 3,\n",
    "#Basis function 1 with basis function 4,\n",
    "\n",
    "Mat_ic_int = np.zeros([Nt-1,2])\n",
    "Mat_ic_int[0,0] = lambd/epsilon**2*quad(lambda x: np.exp(-x/epsilon)*cubic_spline(x,dt,0)*cubic_spline(x,dt,2),0,2*dt,points=[dt],epsabs=1e-50,epsrel=1e-10)[0]+\\\n",
    "quad(lambda x: np.exp(-x/epsilon)*second_deriv_cubic_spline(x,dt,0)*second_deriv_cubic_spline(x,dt,2),0,2*dt,points=[dt],epsabs=1e-50,epsrel=1e-10)[0]\n",
    "\n",
    "Mat_ic_int[0,1] = lambd/epsilon**2*quad(lambda x: np.exp(-x/epsilon)*cubic_spline(x,dt,1)*cubic_spline(x,dt,2),0,3*dt,points=[dt,2*dt],epsabs=1e-50,epsrel=1e-10)[0]+\\\n",
    "quad(lambda x: np.exp(-x/epsilon)*second_deriv_cubic_spline(x,dt,1)*second_deriv_cubic_spline(x,dt,2),0,3*dt,points=[dt,2*dt],epsabs=1e-50,epsrel=1e-10)[0]\n",
    "\n",
    "Mat_ic_int[1,0] = lambd/epsilon**2*quad(lambda x: np.exp(-x/epsilon)*cubic_spline(x,dt,0)*cubic_spline(x,dt,3),dt,2*dt,epsabs=1e-50,epsrel=1e-10)[0]+\\\n",
    "quad(lambda x: np.exp(-x/epsilon)*second_deriv_cubic_spline(x,dt,0)*second_deriv_cubic_spline(x,dt,3),dt,2*dt,epsabs=1e-50,epsrel=1e-10)[0]\n",
    "\n",
    "Mat_ic_int[1,1] = lambd/epsilon**2*quad(lambda x: np.exp(-x/epsilon)*cubic_spline(x,dt,1)*cubic_spline(x,dt,3),dt,3*dt,points=[2*dt],epsabs=1e-50,epsrel=1e-10)[0]+\\\n",
    "quad(lambda x: np.exp(-x/epsilon)*second_deriv_cubic_spline(x,dt,1)*second_deriv_cubic_spline(x,dt,3),dt,3*dt,points=[2*dt],epsabs=1e-50,epsrel=1e-10)[0]\n",
    "\n",
    "Mat_ic_int[2,1] = lambd/epsilon**2*quad(lambda x: np.exp(-x/epsilon)*cubic_spline(x,dt,1)*cubic_spline(x,dt,4),2*dt,3*dt,epsabs=1e-50,epsrel=1e-10)[0]+\\\n",
    "quad(lambda x: np.exp(-x/epsilon)*second_deriv_cubic_spline(x,dt,1)*second_deriv_cubic_spline(x,dt,4),2*dt,3*dt,epsabs=1e-50,epsrel=1e-10)[0]\n"
   ]
  },
  {
   "cell_type": "code",
   "execution_count": 12,
   "metadata": {},
   "outputs": [],
   "source": [
    "#Assemble full matrix system\n",
    "Mat_zeros = np.zeros([2,Nt-1])\n",
    "Full_system = np.block([[Mat_ic,Mat_zeros],[Mat_ic_int,Mat_int]])\n",
    "\n",
    "#Define initial conditions and RHS\n",
    "u0 = 0\n",
    "u1 = 1\n",
    "\n",
    "F = np.zeros(Nt+1)\n",
    "F[0] = u0\n",
    "F[1] = u1\n",
    "\n",
    "#Solve Linear system\n",
    "sigma = np.linalg.solve(Full_system,F)"
   ]
  },
  {
   "cell_type": "code",
   "execution_count": 13,
   "metadata": {},
   "outputs": [],
   "source": [
    "#Define basis projection\n",
    "def cubic_interpolant(t,dt):\n",
    "    sum = 0\n",
    "    for j in range(len(sigma)):\n",
    "        sum += sigma[j]*cubic_spline(t,dt,j)\n",
    "    return sum\n",
    "\n",
    "#True solution\n",
    "def true_sol(t,y0,y0_prime,lambd):\n",
    "    return y0*np.cos(np.sqrt(lambd)*t)+y0_prime/np.sqrt(lambd)*np.sin(np.sqrt(lambd)*t)"
   ]
  },
  {
   "cell_type": "code",
   "execution_count": 14,
   "metadata": {},
   "outputs": [
    {
     "data": {
      "text/plain": [
       "Text(0.5, 1.0, '$u^0$ = 0, $u^1$ = 1, T=1')"
      ]
     },
     "execution_count": 14,
     "metadata": {},
     "output_type": "execute_result"
    },
    {
     "data": {
      "image/png": "[encoded data removed]",
      "text/plain": [
       "<Figure size 640x480 with 1 Axes>"
      ]
     },
     "metadata": {},
     "output_type": "display_data"
    }
   ],
   "source": [
    "#Plot some outputs\n",
    "\n",
    "t = np.linspace(0,T,101)\n",
    "computed_solution = cubic_interpolant(t,dt)\n",
    "plt.plot(t,computed_solution,label='Computed Solution',color='b')\n",
    "plt.plot(t,true_sol(t,u0,u1,lambd),label='Actual Solution',color = 'r')\n",
    "plt.legend()\n",
    "plt.ylabel('u')\n",
    "plt.xlabel('t')\n",
    "plt.title(r\"$u^0$ = {}, $u^1$ = {}, T={}\".format(u0,u1,T))\n"
   ]
  },
  {
   "cell_type": "code",
   "execution_count": null,
   "metadata": {},
   "outputs": [],
   "source": []
  }
 ],
 "metadata": {
  "kernelspec": {
   "display_name": "base",
   "language": "python",
   "name": "python3"
  },
  "language_info": {
   "codemirror_mode": {
    "name": "ipython",
    "version": 3
   },
   "file_extension": ".py",
   "mimetype": "text/x-python",
   "name": "python",
   "nbconvert_exporter": "python",
   "pygments_lexer": "ipython3",
   "version": "3.9.13"
  }
 },
 "nbformat": 4,
 "nbformat_minor": 2
}
